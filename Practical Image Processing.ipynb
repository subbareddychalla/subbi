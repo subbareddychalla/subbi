{
 "cells": [
  {
   "cell_type": "markdown",
   "id": "revised-evening",
   "metadata": {},
   "source": [
    "## Task 1 - Edge detection"
   ]
  },
  {
   "cell_type": "code",
   "execution_count": null,
   "id": "shared-shade",
   "metadata": {},
   "outputs": [],
   "source": [
    "# Importing necessary libraries\n",
    "from skimage import feature # For canny()\n",
    "from skimage.filters import * # For in built filters such as guassian, sobel\n",
    "from skimage.color import *\n",
    "import numpy as np\n",
    "import matplotlib.pyplot as plt\n",
    "from skimage import data\n",
    "\n",
    "# TODO - Take two images as input. Convert to grayscale, if RGB.\n",
    "\n",
    "\n",
    "\n",
    "\n",
    "\n",
    "# TODO - Aplly guasian filter on the image (available in skimage.filters)\n",
    "#  Syntax - gaussian(image, sigma_for_filter)\n",
    "\n",
    "\n",
    "\n",
    "\n"
   ]
  },
  {
   "cell_type": "code",
   "execution_count": null,
   "id": "right-footwear",
   "metadata": {},
   "outputs": [],
   "source": [
    "# Apply sobel operator and canny edge detection to the same image.\n",
    "# Display the original image, edge map from sobel and from canny\n",
    "\n",
    "# TODO - Apply canny and sobel operations\n",
    "# Synatx - canny(image) - available in skimage.feature\n",
    "# Syntax - sobel(image) - available in skimage.filters\n",
    "\n",
    "\n",
    "\n",
    "\n",
    "\n",
    "# TODO - Display original blurred image, output of sobel and canny detection\n",
    "\n",
    "\n",
    "\n",
    "\n"
   ]
  },
  {
   "cell_type": "code",
   "execution_count": null,
   "id": "sublime-abortion",
   "metadata": {},
   "outputs": [],
   "source": [
    "# Apply canny edge detection to the same image with different value of sigma\n",
    "# Analyse the effect of sigma on the ouptut.\n",
    "\n",
    "# TODO - Apply canny edge detection on the same image but change the sigma value for the 2nd case\n",
    "\n",
    "\n",
    "\n",
    "\n",
    "\n",
    "\n",
    "#TODO - Display the original image and edge maps obtained after using different sigma values\n",
    "\n",
    "\n",
    "\n",
    "\n",
    "\n",
    "\n"
   ]
  },
  {
   "cell_type": "markdown",
   "id": "aging-young",
   "metadata": {},
   "source": [
    "## Task 2 - Comparing histogram"
   ]
  },
  {
   "cell_type": "markdown",
   "id": "architectural-rubber",
   "metadata": {},
   "source": [
    "### Task 2.1 - Plot the histogram of two different images and compute the L1 distance between them."
   ]
  },
  {
   "cell_type": "code",
   "execution_count": null,
   "id": "running-floor",
   "metadata": {
    "scrolled": true
   },
   "outputs": [],
   "source": [
    "'''\n",
    "histogram of an image can directly be displayed using a matplotlib function.\n",
    "\n",
    "hist() computes the histogram of the given input image.\n",
    "Input arguments are - \n",
    "x - 1D array\n",
    "bins = to specify the bins used\n",
    "It returns - \n",
    "value of histogram bins, edges of bins and patches (Only value of histogram bins is used in this example)\n",
    "'''"
   ]
  },
  {
   "cell_type": "code",
   "execution_count": null,
   "id": "quiet-concentrate",
   "metadata": {},
   "outputs": [],
   "source": [
    "# Importing standard libraries\n",
    "from skimage import data # To input standard images\n",
    "from matplotlib import pyplot as plt\n",
    "import numpy as np\n",
    "from skimage.color import rgb2gray # To convery RGB image to grayscale\n",
    "from skimage.transform import rescale, resize, rotate # Image transforms"
   ]
  },
  {
   "cell_type": "code",
   "execution_count": null,
   "id": "material-shanghai",
   "metadata": {},
   "outputs": [],
   "source": [
    "# TODO - Load two different images and convert them to grayscale\n",
    "\n",
    "\n",
    "\n",
    "\n",
    "\n",
    "\n",
    "# TODO - Resize images to be of same size\n",
    "\n",
    "\n",
    "\n",
    "\n",
    "\n",
    "\n",
    "# TODO - \n",
    "# Plot the images with their histograms. \n",
    "# example - plt.hist(image.ravel(), bins= num_bins) \n",
    "# ravel() is used to get a flattened array. Used to convert RGB image to 1D array\n",
    "# bins defines the number of equal-width bins in the range\n",
    "\n",
    "\n",
    "\n",
    "\n",
    "\n",
    "\n",
    "\n",
    "\n",
    "# TODO - Compute the L1 distance between the images\n",
    "# L1 distance is the sum of absolute difference between the two points\n",
    "# We can find the average of the L1 distance\n",
    "    \n",
    "    \n",
    "    \n",
    "    \n",
    "    \n",
    "    \n"
   ]
  },
  {
   "cell_type": "markdown",
   "id": "nominated-special",
   "metadata": {},
   "source": [
    "Task 2.1 - Apply point operation to an image. \n",
    "Plot histogram of original image and image obtained after applying point operations. Calculate the L1 distance between them."
   ]
  },
  {
   "cell_type": "code",
   "execution_count": null,
   "id": "colored-count",
   "metadata": {},
   "outputs": [],
   "source": [
    "# TODO -  Apply point operations on 1st image.\n",
    "\n",
    "\n",
    "\n",
    "\n",
    "\n",
    "\n",
    "\n",
    "\n",
    "\n",
    "\n",
    "# TODO - Similar to the above step, display the images with their histograms.\n",
    "\n",
    "\n",
    "\n",
    "\n",
    "\n",
    "\n",
    "\n",
    "\n",
    "# TODO - Also compute the L1 distance between original image \n",
    "# and image obtained after applying point operations\n",
    "\n",
    "# Note the difference of intensity per pixel\n",
    "\n",
    "\n",
    "\n",
    "\n",
    "\n",
    "\n",
    "\n",
    "\n"
   ]
  },
  {
   "cell_type": "code",
   "execution_count": null,
   "id": "spectacular-memorabilia",
   "metadata": {},
   "outputs": [],
   "source": [
    "# You can also check the L1 distance between the images after applying various \n",
    "# other transforms such as rotation, scaling etc."
   ]
  }
 ],
 "metadata": {
  "kernelspec": {
   "display_name": "Python 3 (ipykernel)",
   "language": "python",
   "name": "python3"
  },
  "language_info": {
   "codemirror_mode": {
    "name": "ipython",
    "version": 3
   },
   "file_extension": ".py",
   "mimetype": "text/x-python",
   "name": "python",
   "nbconvert_exporter": "python",
   "pygments_lexer": "ipython3",
   "version": "3.9.12"
  }
 },
 "nbformat": 4,
 "nbformat_minor": 5
}
